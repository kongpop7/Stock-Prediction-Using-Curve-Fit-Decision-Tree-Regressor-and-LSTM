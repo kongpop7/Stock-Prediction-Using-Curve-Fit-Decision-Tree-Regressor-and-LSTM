{
  "nbformat": 4,
  "nbformat_minor": 0,
  "metadata": {
    "colab": {
      "name": "Final Project MLDL : Kongpop Panya 6238017521",
      "provenance": [],
      "collapsed_sections": []
    },
    "kernelspec": {
      "name": "python3",
      "display_name": "Python 3"
    },
    "language_info": {
      "name": "python"
    },
    "accelerator": "GPU"
  },
  "cells": [
    {
      "cell_type": "markdown",
      "metadata": {
        "id": "BrZ4xGVTeS4d"
      },
      "source": [
        "#**Data Preparation**\n",
        "\n",
        "\n"
      ]
    },
    {
      "cell_type": "code",
      "metadata": {
        "id": "ljG8oS6v2dzo"
      },
      "source": [
        "import numpy as np\n",
        "import matplotlib.pyplot as plt\n",
        "from scipy import stats\n",
        "import time\n",
        "import datetime\n",
        "import pandas as pd\n",
        "import seaborn as sns\n",
        "from sklearn.preprocessing import MinMaxScaler\n",
        "from sklearn.preprocessing import StandardScaler\n",
        "import pandas_datareader as pdr\n",
        "from scipy.optimize import curve_fit\n",
        "from sklearn.tree import DecisionTreeRegressor\n",
        "from sklearn.linear_model import LinearRegression\n",
        "from sklearn.model_selection import train_test_split\n",
        "from sklearn.metrics import mean_absolute_error, mean_squared_error, r2_score\n",
        "import plotly.graph_objects as go \n",
        "import math\n",
        "import keras\n",
        "from keras.models import Sequential\n",
        "from keras.layers import Dense\n",
        "from keras.layers import LSTM\n",
        "from keras.layers import Dropout\n",
        "from keras.layers import *\n",
        "from keras.callbacks import EarlyStopping"
      ],
      "execution_count": null,
      "outputs": []
    },
    {
      "cell_type": "code",
      "metadata": {
        "id": "aQY6Swn2K_7n"
      },
      "source": [
        "ticker = '^GSPC'\n",
        "period1 = int(time.mktime(datetime.datetime(2016, 10, 31, 23, 59).timetuple()))\n",
        "period2 = int(time.mktime(datetime.datetime(2021, 10, 31, 23, 59).timetuple()))\n",
        "interval = '1d'\n",
        "\n",
        "def getHistoricalData(ticker):\n",
        "    query_string = f'https://query1.finance.yahoo.com/v7/finance/download/{ticker}?period1={period1}&period2={period2}&interval={interval}&events=history&includeAdjustedClose=true'\n",
        "\n",
        "    df = pd.read_csv(query_string)\n",
        "    return df"
      ],
      "execution_count": null,
      "outputs": []
    },
    {
      "cell_type": "code",
      "metadata": {
        "colab": {
          "base_uri": "https://localhost:8080/",
          "height": 422
        },
        "id": "ei-N-j4VVU-W",
        "outputId": "bac26b8c-e6f7-40ba-ff3f-c42e9b207be5"
      },
      "source": [
        "df = getHistoricalData(ticker)\n",
        "df"
      ],
      "execution_count": null,
      "outputs": [
        {
          "output_type": "execute_result",
          "data": {
            "text/html": [
              "<div>\n",
              "<style scoped>\n",
              "    .dataframe tbody tr th:only-of-type {\n",
              "        vertical-align: middle;\n",
              "    }\n",
              "\n",
              "    .dataframe tbody tr th {\n",
              "        vertical-align: top;\n",
              "    }\n",
              "\n",
              "    .dataframe thead th {\n",
              "        text-align: right;\n",
              "    }\n",
              "</style>\n",
              "<table border=\"1\" class=\"dataframe\">\n",
              "  <thead>\n",
              "    <tr style=\"text-align: right;\">\n",
              "      <th></th>\n",
              "      <th>Date</th>\n",
              "      <th>Open</th>\n",
              "      <th>High</th>\n",
              "      <th>Low</th>\n",
              "      <th>Close</th>\n",
              "      <th>Adj Close</th>\n",
              "      <th>Volume</th>\n",
              "    </tr>\n",
              "  </thead>\n",
              "  <tbody>\n",
              "    <tr>\n",
              "      <th>0</th>\n",
              "      <td>2016-10-31</td>\n",
              "      <td>2129.780029</td>\n",
              "      <td>2133.250000</td>\n",
              "      <td>2125.530029</td>\n",
              "      <td>2126.149902</td>\n",
              "      <td>2126.149902</td>\n",
              "      <td>3922400000</td>\n",
              "    </tr>\n",
              "    <tr>\n",
              "      <th>1</th>\n",
              "      <td>2016-11-01</td>\n",
              "      <td>2128.679932</td>\n",
              "      <td>2131.449951</td>\n",
              "      <td>2097.850098</td>\n",
              "      <td>2111.719971</td>\n",
              "      <td>2111.719971</td>\n",
              "      <td>4532160000</td>\n",
              "    </tr>\n",
              "    <tr>\n",
              "      <th>2</th>\n",
              "      <td>2016-11-02</td>\n",
              "      <td>2109.429932</td>\n",
              "      <td>2111.760010</td>\n",
              "      <td>2094.000000</td>\n",
              "      <td>2097.939941</td>\n",
              "      <td>2097.939941</td>\n",
              "      <td>4248580000</td>\n",
              "    </tr>\n",
              "    <tr>\n",
              "      <th>3</th>\n",
              "      <td>2016-11-03</td>\n",
              "      <td>2098.800049</td>\n",
              "      <td>2102.560059</td>\n",
              "      <td>2085.229980</td>\n",
              "      <td>2088.659912</td>\n",
              "      <td>2088.659912</td>\n",
              "      <td>3886740000</td>\n",
              "    </tr>\n",
              "    <tr>\n",
              "      <th>4</th>\n",
              "      <td>2016-11-04</td>\n",
              "      <td>2083.790039</td>\n",
              "      <td>2099.070068</td>\n",
              "      <td>2083.790039</td>\n",
              "      <td>2085.179932</td>\n",
              "      <td>2085.179932</td>\n",
              "      <td>3837860000</td>\n",
              "    </tr>\n",
              "    <tr>\n",
              "      <th>...</th>\n",
              "      <td>...</td>\n",
              "      <td>...</td>\n",
              "      <td>...</td>\n",
              "      <td>...</td>\n",
              "      <td>...</td>\n",
              "      <td>...</td>\n",
              "      <td>...</td>\n",
              "    </tr>\n",
              "    <tr>\n",
              "      <th>1254</th>\n",
              "      <td>2021-10-25</td>\n",
              "      <td>4553.689941</td>\n",
              "      <td>4572.620117</td>\n",
              "      <td>4537.359863</td>\n",
              "      <td>4566.479980</td>\n",
              "      <td>4566.479980</td>\n",
              "      <td>3250210000</td>\n",
              "    </tr>\n",
              "    <tr>\n",
              "      <th>1255</th>\n",
              "      <td>2021-10-26</td>\n",
              "      <td>4578.689941</td>\n",
              "      <td>4598.529785</td>\n",
              "      <td>4569.169922</td>\n",
              "      <td>4574.790039</td>\n",
              "      <td>4574.790039</td>\n",
              "      <td>2866500000</td>\n",
              "    </tr>\n",
              "    <tr>\n",
              "      <th>1256</th>\n",
              "      <td>2021-10-27</td>\n",
              "      <td>4580.220215</td>\n",
              "      <td>4584.569824</td>\n",
              "      <td>4551.660156</td>\n",
              "      <td>4551.680176</td>\n",
              "      <td>4551.680176</td>\n",
              "      <td>3259510000</td>\n",
              "    </tr>\n",
              "    <tr>\n",
              "      <th>1257</th>\n",
              "      <td>2021-10-28</td>\n",
              "      <td>4562.839844</td>\n",
              "      <td>4597.549805</td>\n",
              "      <td>4562.839844</td>\n",
              "      <td>4596.419922</td>\n",
              "      <td>4596.419922</td>\n",
              "      <td>3197560000</td>\n",
              "    </tr>\n",
              "    <tr>\n",
              "      <th>1258</th>\n",
              "      <td>2021-10-29</td>\n",
              "      <td>4572.870117</td>\n",
              "      <td>4608.080078</td>\n",
              "      <td>4567.589844</td>\n",
              "      <td>4605.379883</td>\n",
              "      <td>4605.379883</td>\n",
              "      <td>3632260000</td>\n",
              "    </tr>\n",
              "  </tbody>\n",
              "</table>\n",
              "<p>1259 rows × 7 columns</p>\n",
              "</div>"
            ],
            "text/plain": [
              "            Date         Open  ...    Adj Close      Volume\n",
              "0     2016-10-31  2129.780029  ...  2126.149902  3922400000\n",
              "1     2016-11-01  2128.679932  ...  2111.719971  4532160000\n",
              "2     2016-11-02  2109.429932  ...  2097.939941  4248580000\n",
              "3     2016-11-03  2098.800049  ...  2088.659912  3886740000\n",
              "4     2016-11-04  2083.790039  ...  2085.179932  3837860000\n",
              "...          ...          ...  ...          ...         ...\n",
              "1254  2021-10-25  4553.689941  ...  4566.479980  3250210000\n",
              "1255  2021-10-26  4578.689941  ...  4574.790039  2866500000\n",
              "1256  2021-10-27  4580.220215  ...  4551.680176  3259510000\n",
              "1257  2021-10-28  4562.839844  ...  4596.419922  3197560000\n",
              "1258  2021-10-29  4572.870117  ...  4605.379883  3632260000\n",
              "\n",
              "[1259 rows x 7 columns]"
            ]
          },
          "metadata": {},
          "execution_count": 3
        }
      ]
    },
    {
      "cell_type": "code",
      "metadata": {
        "colab": {
          "base_uri": "https://localhost:8080/"
        },
        "id": "rm3JVEbcQA1-",
        "outputId": "dfa68751-ff94-4176-b3b3-2ab23bd30c9c"
      },
      "source": [
        "df['Date'].isnull().describe()"
      ],
      "execution_count": null,
      "outputs": [
        {
          "output_type": "execute_result",
          "data": {
            "text/plain": [
              "count      1259\n",
              "unique        1\n",
              "top       False\n",
              "freq       1259\n",
              "Name: Date, dtype: object"
            ]
          },
          "metadata": {},
          "execution_count": 4
        }
      ]
    },
    {
      "cell_type": "code",
      "metadata": {
        "colab": {
          "base_uri": "https://localhost:8080/"
        },
        "id": "93bXCactQC_l",
        "outputId": "0e9f8504-5eeb-4940-d0f3-24f003a1e3f3"
      },
      "source": [
        "df['Open'].isnull().describe()"
      ],
      "execution_count": null,
      "outputs": [
        {
          "output_type": "execute_result",
          "data": {
            "text/plain": [
              "count      1259\n",
              "unique        1\n",
              "top       False\n",
              "freq       1259\n",
              "Name: Open, dtype: object"
            ]
          },
          "metadata": {},
          "execution_count": 5
        }
      ]
    },
    {
      "cell_type": "code",
      "metadata": {
        "colab": {
          "base_uri": "https://localhost:8080/",
          "height": 254
        },
        "id": "rM19b4emQE7E",
        "outputId": "32ae3d73-f692-458a-88bb-1ef3450ef040"
      },
      "source": [
        "df['Date'] = pd.to_datetime(df['Date'])\n",
        "\n",
        "avg_open = df.groupby(['Date']).sum()['Open']\n",
        "display(avg_open)"
      ],
      "execution_count": null,
      "outputs": [
        {
          "output_type": "display_data",
          "data": {
            "text/plain": [
              "Date\n",
              "2016-10-31    2129.780029\n",
              "2016-11-01    2128.679932\n",
              "2016-11-02    2109.429932\n",
              "2016-11-03    2098.800049\n",
              "2016-11-04    2083.790039\n",
              "                 ...     \n",
              "2021-10-25    4553.689941\n",
              "2021-10-26    4578.689941\n",
              "2021-10-27    4580.220215\n",
              "2021-10-28    4562.839844\n",
              "2021-10-29    4572.870117\n",
              "Name: Open, Length: 1259, dtype: float64"
            ]
          },
          "metadata": {}
        }
      ]
    },
    {
      "cell_type": "code",
      "metadata": {
        "colab": {
          "base_uri": "https://localhost:8080/",
          "height": 287
        },
        "id": "x8g440MaQGcs",
        "outputId": "d1382c67-875c-48f1-c6fb-43d1289e0640"
      },
      "source": [
        "avg_open.plot()"
      ],
      "execution_count": null,
      "outputs": [
        {
          "output_type": "execute_result",
          "data": {
            "text/plain": [
              "<matplotlib.axes._subplots.AxesSubplot at 0x7f9b0fadf290>"
            ]
          },
          "metadata": {},
          "execution_count": 7
        },
        {
          "output_type": "display_data",
          "data": {
            "image/png": "[encoded data removed]",
            "text/plain": [
              "<Figure size 432x288 with 1 Axes>"
            ]
          },
          "metadata": {
            "needs_background": "light"
          }
        }
      ]
    },
    {
      "cell_type": "markdown",
      "metadata": {
        "id": "_WpkqjmzQQMe"
      },
      "source": [
        "#**Split to Train Test**"
      ]
    },
    {
      "cell_type": "code",
      "metadata": {
        "colab": {
          "base_uri": "https://localhost:8080/",
          "height": 205
        },
        "id": "WJOkueNTQKj1",
        "outputId": "e4fcd7cb-c086-4d44-ef92-537183869b9f"
      },
      "source": [
        "avg_open = avg_open.reset_index()\n",
        "avg_open.head(5)"
      ],
      "execution_count": null,
      "outputs": [
        {
          "output_type": "execute_result",
          "data": {
            "text/html": [
              "<div>\n",
              "<style scoped>\n",
              "    .dataframe tbody tr th:only-of-type {\n",
              "        vertical-align: middle;\n",
              "    }\n",
              "\n",
              "    .dataframe tbody tr th {\n",
              "        vertical-align: top;\n",
              "    }\n",
              "\n",
              "    .dataframe thead th {\n",
              "        text-align: right;\n",
              "    }\n",
              "</style>\n",
              "<table border=\"1\" class=\"dataframe\">\n",
              "  <thead>\n",
              "    <tr style=\"text-align: right;\">\n",
              "      <th></th>\n",
              "      <th>Date</th>\n",
              "      <th>Open</th>\n",
              "    </tr>\n",
              "  </thead>\n",
              "  <tbody>\n",
              "    <tr>\n",
              "      <th>0</th>\n",
              "      <td>2016-10-31</td>\n",
              "      <td>2129.780029</td>\n",
              "    </tr>\n",
              "    <tr>\n",
              "      <th>1</th>\n",
              "      <td>2016-11-01</td>\n",
              "      <td>2128.679932</td>\n",
              "    </tr>\n",
              "    <tr>\n",
              "      <th>2</th>\n",
              "      <td>2016-11-02</td>\n",
              "      <td>2109.429932</td>\n",
              "    </tr>\n",
              "    <tr>\n",
              "      <th>3</th>\n",
              "      <td>2016-11-03</td>\n",
              "      <td>2098.800049</td>\n",
              "    </tr>\n",
              "    <tr>\n",
              "      <th>4</th>\n",
              "      <td>2016-11-04</td>\n",
              "      <td>2083.790039</td>\n",
              "    </tr>\n",
              "  </tbody>\n",
              "</table>\n",
              "</div>"
            ],
            "text/plain": [
              "        Date         Open\n",
              "0 2016-10-31  2129.780029\n",
              "1 2016-11-01  2128.679932\n",
              "2 2016-11-02  2109.429932\n",
              "3 2016-11-03  2098.800049\n",
              "4 2016-11-04  2083.790039"
            ]
          },
          "metadata": {},
          "execution_count": 8
        }
      ]
    },
    {
      "cell_type": "code",
      "metadata": {
        "id": "3eYckW6KQOdU"
      },
      "source": [
        "#define x and y\n",
        "# x axis use index to traverse\n",
        "X = np.array([i for i in range(0,len(avg_open))])\n",
        "Y = np.array(avg_open['Open'])\n",
        "\n",
        "#Split into Train and Test dataset\n",
        "X_train, X_test, Y_train, Y_test = train_test_split(X, Y,train_size = 0.7, random_state = 42)\n",
        "#X_train, X_test, Y_train, Y_test = train_test_split(X, Y, random_state = 42)"
      ],
      "execution_count": null,
      "outputs": []
    },
    {
      "cell_type": "code",
      "metadata": {
        "colab": {
          "base_uri": "https://localhost:8080/"
        },
        "id": "rPpP4AH1QbSW",
        "outputId": "86bd2bc9-a464-4d7f-eeaa-82bdab8ed0b7"
      },
      "source": [
        "X"
      ],
      "execution_count": null,
      "outputs": [
        {
          "output_type": "execute_result",
          "data": {
            "text/plain": [
              "array([   0,    1,    2, ..., 1256, 1257, 1258])"
            ]
          },
          "metadata": {},
          "execution_count": 10
        }
      ]
    },
    {
      "cell_type": "code",
      "metadata": {
        "colab": {
          "base_uri": "https://localhost:8080/"
        },
        "id": "-3fu5IQ4Q3du",
        "outputId": "d2d48a9d-0808-46d9-8d52-a46f8b14812d"
      },
      "source": [
        "Y"
      ],
      "execution_count": null,
      "outputs": [
        {
          "output_type": "execute_result",
          "data": {
            "text/plain": [
              "array([2129.780029, 2128.679932, 2109.429932, ..., 4580.220215,\n",
              "       4562.839844, 4572.870117])"
            ]
          },
          "metadata": {},
          "execution_count": 11
        }
      ]
    },
    {
      "cell_type": "code",
      "metadata": {
        "id": "QzkSgUGessza"
      },
      "source": [
        "from sklearn.preprocessing import MinMaxScaler\n",
        "scaler = MinMaxScaler(feature_range=(0, 1))\n",
        "X_normalized = scaler.fit_transform(np.array([Y]).T)"
      ],
      "execution_count": null,
      "outputs": []
    },
    {
      "cell_type": "code",
      "metadata": {
        "colab": {
          "base_uri": "https://localhost:8080/"
        },
        "id": "QcnXSgwrwhY5",
        "outputId": "a14a45f9-a376-4083-c94b-fba17ca5f966"
      },
      "source": [
        "X_normalized"
      ],
      "execution_count": null,
      "outputs": [
        {
          "output_type": "execute_result",
          "data": {
            "text/plain": [
              "array([[0.0184223 ],\n",
              "       [0.01798163],\n",
              "       [0.01027062],\n",
              "       ...,\n",
              "       [1.        ],\n",
              "       [0.99303791],\n",
              "       [0.99705576]])"
            ]
          },
          "metadata": {},
          "execution_count": 13
        }
      ]
    },
    {
      "cell_type": "markdown",
      "metadata": {
        "id": "dSh6YB_YTI7j"
      },
      "source": [
        "#**Curve Fit**"
      ]
    },
    {
      "cell_type": "code",
      "metadata": {
        "id": "gLMxwZ_fTOLU"
      },
      "source": [
        "#define linear function\n",
        "def f1(x,a,b):\n",
        "  return a*x+b"
      ],
      "execution_count": null,
      "outputs": []
    },
    {
      "cell_type": "code",
      "metadata": {
        "id": "5iU47ktMTvwD"
      },
      "source": [
        "#apply and use curve fit\n",
        "t,_ = curve_fit(f1, X_train, Y_train)\n",
        "X_output = np.array(X)\n",
        "Y_output = f1(X_output, t[0], t[1])"
      ],
      "execution_count": null,
      "outputs": []
    },
    {
      "cell_type": "code",
      "metadata": {
        "colab": {
          "base_uri": "https://localhost:8080/",
          "height": 279
        },
        "id": "wO0xz09MTxoL",
        "outputId": "63cc2636-3e6a-4c55-8e08-66856fed6a5e"
      },
      "source": [
        "#plot the graph\n",
        "plt.plot(X_output,Y_output,'r--', label = 'Predicted S&P500 Price')\n",
        "plt.plot(X,Y,'g', label = 'Actual Price')\n",
        "plt.xlabel('Date from 31/10/2016 - 31/10/2021'); \n",
        "plt.ylabel('S&P500 Price')\n",
        "plt.show()"
      ],
      "execution_count": null,
      "outputs": [
        {
          "output_type": "display_data",
          "data": {
            "image/png": "[encoded data removed]",
            "text/plain": [
              "<Figure size 432x288 with 1 Axes>"
            ]
          },
          "metadata": {
            "needs_background": "light"
          }
        }
      ]
    },
    {
      "cell_type": "code",
      "metadata": {
        "colab": {
          "base_uri": "https://localhost:8080/"
        },
        "id": "wZfN0vo-WwXG",
        "outputId": "09d718cb-ca91-485c-afec-68707f0d3e66"
      },
      "source": [
        "Y_predicted = f1(X_test,t[0],t[1])\n",
        "MSEcf = mean_squared_error(Y_test, Y_predicted)\n",
        "RMSEcf = np.sqrt(MSEcf)\n",
        "MAEcf = mean_absolute_error(Y_test, Y_predicted)\n",
        "R2cf = r2_score(Y_test, Y_predicted)\n",
        "\n",
        "\n",
        "\n",
        "print('MSE:', MSEcf)\n",
        "print('RMSE:', RMSEcf)\n",
        "print('MAE:', MAEcf)\n",
        "print('R²:', R2cf)"
      ],
      "execution_count": null,
      "outputs": [
        {
          "output_type": "stream",
          "name": "stdout",
          "text": [
            "MSE: 68484.04023070332\n",
            "RMSE: 261.69455521791684\n",
            "MAE: 203.39874010604169\n",
            "R²: 0.8164081666613736\n"
          ]
        }
      ]
    },
    {
      "cell_type": "markdown",
      "metadata": {
        "id": "u0tpjNJRTO4U"
      },
      "source": [
        "#**Decision Tree Regressor**"
      ]
    },
    {
      "cell_type": "code",
      "metadata": {
        "colab": {
          "base_uri": "https://localhost:8080/",
          "height": 422
        },
        "id": "-fJjL_nqiH6-",
        "outputId": "75be7fd3-0626-42ec-fae4-ce9e7072d319"
      },
      "source": [
        "dfLR  = df[['Open']]\n",
        "dfLR"
      ],
      "execution_count": null,
      "outputs": [
        {
          "output_type": "execute_result",
          "data": {
            "text/html": [
              "<div>\n",
              "<style scoped>\n",
              "    .dataframe tbody tr th:only-of-type {\n",
              "        vertical-align: middle;\n",
              "    }\n",
              "\n",
              "    .dataframe tbody tr th {\n",
              "        vertical-align: top;\n",
              "    }\n",
              "\n",
              "    .dataframe thead th {\n",
              "        text-align: right;\n",
              "    }\n",
              "</style>\n",
              "<table border=\"1\" class=\"dataframe\">\n",
              "  <thead>\n",
              "    <tr style=\"text-align: right;\">\n",
              "      <th></th>\n",
              "      <th>Open</th>\n",
              "    </tr>\n",
              "  </thead>\n",
              "  <tbody>\n",
              "    <tr>\n",
              "      <th>0</th>\n",
              "      <td>2129.780029</td>\n",
              "    </tr>\n",
              "    <tr>\n",
              "      <th>1</th>\n",
              "      <td>2128.679932</td>\n",
              "    </tr>\n",
              "    <tr>\n",
              "      <th>2</th>\n",
              "      <td>2109.429932</td>\n",
              "    </tr>\n",
              "    <tr>\n",
              "      <th>3</th>\n",
              "      <td>2098.800049</td>\n",
              "    </tr>\n",
              "    <tr>\n",
              "      <th>4</th>\n",
              "      <td>2083.790039</td>\n",
              "    </tr>\n",
              "    <tr>\n",
              "      <th>...</th>\n",
              "      <td>...</td>\n",
              "    </tr>\n",
              "    <tr>\n",
              "      <th>1254</th>\n",
              "      <td>4553.689941</td>\n",
              "    </tr>\n",
              "    <tr>\n",
              "      <th>1255</th>\n",
              "      <td>4578.689941</td>\n",
              "    </tr>\n",
              "    <tr>\n",
              "      <th>1256</th>\n",
              "      <td>4580.220215</td>\n",
              "    </tr>\n",
              "    <tr>\n",
              "      <th>1257</th>\n",
              "      <td>4562.839844</td>\n",
              "    </tr>\n",
              "    <tr>\n",
              "      <th>1258</th>\n",
              "      <td>4572.870117</td>\n",
              "    </tr>\n",
              "  </tbody>\n",
              "</table>\n",
              "<p>1259 rows × 1 columns</p>\n",
              "</div>"
            ],
            "text/plain": [
              "             Open\n",
              "0     2129.780029\n",
              "1     2128.679932\n",
              "2     2109.429932\n",
              "3     2098.800049\n",
              "4     2083.790039\n",
              "...           ...\n",
              "1254  4553.689941\n",
              "1255  4578.689941\n",
              "1256  4580.220215\n",
              "1257  4562.839844\n",
              "1258  4572.870117\n",
              "\n",
              "[1259 rows x 1 columns]"
            ]
          },
          "metadata": {},
          "execution_count": 18
        }
      ]
    },
    {
      "cell_type": "code",
      "metadata": {
        "colab": {
          "base_uri": "https://localhost:8080/",
          "height": 567
        },
        "id": "zxaKxk0ZkVMP",
        "outputId": "20f4c1cf-bc6c-4f1d-8a33-9fd45fc6d6a7"
      },
      "source": [
        "future = 5\n",
        "dfLR['Predict'] = dfLR[['Open']].shift(-future)\n",
        "dfLR"
      ],
      "execution_count": null,
      "outputs": [
        {
          "output_type": "stream",
          "name": "stderr",
          "text": [
            "/usr/local/lib/python3.7/dist-packages/ipykernel_launcher.py:2: SettingWithCopyWarning:\n",
            "\n",
            "\n",
            "A value is trying to be set on a copy of a slice from a DataFrame.\n",
            "Try using .loc[row_indexer,col_indexer] = value instead\n",
            "\n",
            "See the caveats in the documentation: https://pandas.pydata.org/pandas-docs/stable/user_guide/indexing.html#returning-a-view-versus-a-copy\n",
            "\n"
          ]
        },
        {
          "output_type": "execute_result",
          "data": {
            "text/html": [
              "<div>\n",
              "<style scoped>\n",
              "    .dataframe tbody tr th:only-of-type {\n",
              "        vertical-align: middle;\n",
              "    }\n",
              "\n",
              "    .dataframe tbody tr th {\n",
              "        vertical-align: top;\n",
              "    }\n",
              "\n",
              "    .dataframe thead th {\n",
              "        text-align: right;\n",
              "    }\n",
              "</style>\n",
              "<table border=\"1\" class=\"dataframe\">\n",
              "  <thead>\n",
              "    <tr style=\"text-align: right;\">\n",
              "      <th></th>\n",
              "      <th>Open</th>\n",
              "      <th>Predict</th>\n",
              "    </tr>\n",
              "  </thead>\n",
              "  <tbody>\n",
              "    <tr>\n",
              "      <th>0</th>\n",
              "      <td>2129.780029</td>\n",
              "      <td>2100.590088</td>\n",
              "    </tr>\n",
              "    <tr>\n",
              "      <th>1</th>\n",
              "      <td>2128.679932</td>\n",
              "      <td>2129.919922</td>\n",
              "    </tr>\n",
              "    <tr>\n",
              "      <th>2</th>\n",
              "      <td>2109.429932</td>\n",
              "      <td>2131.560059</td>\n",
              "    </tr>\n",
              "    <tr>\n",
              "      <th>3</th>\n",
              "      <td>2098.800049</td>\n",
              "      <td>2167.489990</td>\n",
              "    </tr>\n",
              "    <tr>\n",
              "      <th>4</th>\n",
              "      <td>2083.790039</td>\n",
              "      <td>2162.709961</td>\n",
              "    </tr>\n",
              "    <tr>\n",
              "      <th>...</th>\n",
              "      <td>...</td>\n",
              "      <td>...</td>\n",
              "    </tr>\n",
              "    <tr>\n",
              "      <th>1254</th>\n",
              "      <td>4553.689941</td>\n",
              "      <td>NaN</td>\n",
              "    </tr>\n",
              "    <tr>\n",
              "      <th>1255</th>\n",
              "      <td>4578.689941</td>\n",
              "      <td>NaN</td>\n",
              "    </tr>\n",
              "    <tr>\n",
              "      <th>1256</th>\n",
              "      <td>4580.220215</td>\n",
              "      <td>NaN</td>\n",
              "    </tr>\n",
              "    <tr>\n",
              "      <th>1257</th>\n",
              "      <td>4562.839844</td>\n",
              "      <td>NaN</td>\n",
              "    </tr>\n",
              "    <tr>\n",
              "      <th>1258</th>\n",
              "      <td>4572.870117</td>\n",
              "      <td>NaN</td>\n",
              "    </tr>\n",
              "  </tbody>\n",
              "</table>\n",
              "<p>1259 rows × 2 columns</p>\n",
              "</div>"
            ],
            "text/plain": [
              "             Open      Predict\n",
              "0     2129.780029  2100.590088\n",
              "1     2128.679932  2129.919922\n",
              "2     2109.429932  2131.560059\n",
              "3     2098.800049  2167.489990\n",
              "4     2083.790039  2162.709961\n",
              "...           ...          ...\n",
              "1254  4553.689941          NaN\n",
              "1255  4578.689941          NaN\n",
              "1256  4580.220215          NaN\n",
              "1257  4562.839844          NaN\n",
              "1258  4572.870117          NaN\n",
              "\n",
              "[1259 rows x 2 columns]"
            ]
          },
          "metadata": {},
          "execution_count": 19
        }
      ]
    },
    {
      "cell_type": "code",
      "metadata": {
        "colab": {
          "base_uri": "https://localhost:8080/"
        },
        "id": "ip8TVw5rkkcG",
        "outputId": "e31cc505-7d74-4d33-eb1e-9a2a79a703c9"
      },
      "source": [
        "Xlr = np.array(dfLR.drop(['Predict'],1))[:-future]\n",
        "Xlr"
      ],
      "execution_count": null,
      "outputs": [
        {
          "output_type": "execute_result",
          "data": {
            "text/plain": [
              "array([[2129.780029],\n",
              "       [2128.679932],\n",
              "       [2109.429932],\n",
              "       ...,\n",
              "       [4524.419922],\n",
              "       [4532.240234],\n",
              "       [4546.120117]])"
            ]
          },
          "metadata": {},
          "execution_count": 20
        }
      ]
    },
    {
      "cell_type": "code",
      "metadata": {
        "colab": {
          "base_uri": "https://localhost:8080/"
        },
        "id": "4JBJ9smzkvtK",
        "outputId": "a6e390c2-35c2-4767-9e86-cee33a1509c0"
      },
      "source": [
        "Ylr = np.array(dfLR['Predict'])[:-future]\n",
        "Ylr"
      ],
      "execution_count": null,
      "outputs": [
        {
          "output_type": "execute_result",
          "data": {
            "text/plain": [
              "array([2100.590088, 2129.919922, 2131.560059, ..., 4580.220215,\n",
              "       4562.839844, 4572.870117])"
            ]
          },
          "metadata": {},
          "execution_count": 21
        }
      ]
    },
    {
      "cell_type": "code",
      "metadata": {
        "id": "RCJYk_K7k9oe"
      },
      "source": [
        "Xlr_train, Xlr_test, Ylr_train, Ylr_test = train_test_split(Xlr, Ylr, test_size = 0.25)"
      ],
      "execution_count": null,
      "outputs": []
    },
    {
      "cell_type": "code",
      "metadata": {
        "id": "VX-CfXYtlJGI"
      },
      "source": [
        "tree = DecisionTreeRegressor().fit(Xlr_train,Ylr_train)"
      ],
      "execution_count": null,
      "outputs": []
    },
    {
      "cell_type": "code",
      "metadata": {
        "id": "0rd-35zAlkdP"
      },
      "source": [
        "tree_predict = tree.predict(Xlr)"
      ],
      "execution_count": null,
      "outputs": []
    },
    {
      "cell_type": "code",
      "metadata": {
        "colab": {
          "base_uri": "https://localhost:8080/",
          "height": 279
        },
        "id": "1JS2dqW2l4HW",
        "outputId": "f859b403-eaf1-44bc-833c-1b93fa026a01"
      },
      "source": [
        "plt.plot(tree_predict,'r', label = 'Predicted S&P500 Price')\n",
        "plt.plot(Xlr,'b', label = 'Actual Price')\n",
        "plt.xlabel('Date from 31/10/2016 - 31/10/2021'); \n",
        "plt.ylabel('S&P500 Price')\n",
        "plt.show()"
      ],
      "execution_count": null,
      "outputs": [
        {
          "output_type": "display_data",
          "data": {
            "image/png": "[encoded data removed]",
            "text/plain": [
              "<Figure size 432x288 with 1 Axes>"
            ]
          },
          "metadata": {
            "needs_background": "light"
          }
        }
      ]
    },
    {
      "cell_type": "code",
      "metadata": {
        "colab": {
          "base_uri": "https://localhost:8080/"
        },
        "id": "foogmkEcnq8L",
        "outputId": "0af6a75a-4562-45cd-d916-a1b5d270519d"
      },
      "source": [
        "from sklearn.metrics import mean_absolute_error, mean_squared_error, r2_score\n",
        "\n",
        "MSElr = mean_squared_error(Xlr, tree_predict)\n",
        "RMSElr = np.sqrt(MSElr)\n",
        "MAElr = mean_absolute_error(Xlr, tree_predict)\n",
        "R2lr = r2_score(Xlr, tree_predict)\n",
        "\n",
        "print('MSE:', MSElr)\n",
        "print('RMSE:', RMSElr)\n",
        "print('MAE:', MAElr)\n",
        "print('R²:', R2lr)"
      ],
      "execution_count": null,
      "outputs": [
        {
          "output_type": "stream",
          "name": "stdout",
          "text": [
            "MSE: 4648.49768871858\n",
            "RMSE: 68.17989211430728\n",
            "MAE: 46.22348340191387\n",
            "R²: 0.9874640682090601\n"
          ]
        }
      ]
    },
    {
      "cell_type": "markdown",
      "metadata": {
        "id": "DqQO5_5B3_bj"
      },
      "source": [
        "# **LSTM**"
      ]
    },
    {
      "cell_type": "code",
      "metadata": {
        "id": "sKX52Qk_4gtx"
      },
      "source": [
        "X_train=X_normalized[:-1]\n",
        "Y_train=X_normalized[1:]"
      ],
      "execution_count": null,
      "outputs": []
    },
    {
      "cell_type": "code",
      "metadata": {
        "colab": {
          "base_uri": "https://localhost:8080/"
        },
        "id": "yPo5bWtC4xIH",
        "outputId": "c9e3cad8-c5b6-4202-eece-a551b1d338b7"
      },
      "source": [
        "X_train[:5]"
      ],
      "execution_count": null,
      "outputs": [
        {
          "output_type": "execute_result",
          "data": {
            "text/plain": [
              "array([[0.0184223 ],\n",
              "       [0.01798163],\n",
              "       [0.01027062],\n",
              "       [0.00601259],\n",
              "       [0.        ]])"
            ]
          },
          "metadata": {},
          "execution_count": 28
        }
      ]
    },
    {
      "cell_type": "code",
      "metadata": {
        "colab": {
          "base_uri": "https://localhost:8080/"
        },
        "id": "RFfEteIR45ll",
        "outputId": "e0fa0af2-cce7-477e-b72e-8fca79e05e9d"
      },
      "source": [
        "Y_train[:5]"
      ],
      "execution_count": null,
      "outputs": [
        {
          "output_type": "execute_result",
          "data": {
            "text/plain": [
              "array([[0.01798163],\n",
              "       [0.01027062],\n",
              "       [0.00601259],\n",
              "       [0.        ],\n",
              "       [0.00672963]])"
            ]
          },
          "metadata": {},
          "execution_count": 29
        }
      ]
    },
    {
      "cell_type": "code",
      "metadata": {
        "id": "wDnbqIgk4QKB"
      },
      "source": [
        "ind=np.arange(5)\n",
        "ind=np.arange(X.shape[0]-5).reshape(X.shape[0]-5,1)+ind\n",
        "X_train=X_normalized[ind]\n",
        "X_train=X_train.reshape((X_train.shape[0],1,X_train.shape[1]))"
      ],
      "execution_count": null,
      "outputs": []
    },
    {
      "cell_type": "code",
      "metadata": {
        "id": "7QJGMQsv-8wS"
      },
      "source": [
        "X_train\n",
        "Y_train=X_train[:,:,0][1:,:]\n",
        "X_train=X_train[:-1,:,:]"
      ],
      "execution_count": null,
      "outputs": []
    },
    {
      "cell_type": "code",
      "metadata": {
        "id": "srZXa4OF4QKD"
      },
      "source": [
        "from keras.models import Sequential\n",
        "from keras.layers import Dense, Flatten, LSTM, Dropout\n",
        "from keras.layers import SpatialDropout1D\n",
        "from tensorflow.keras import activations\n",
        "\n",
        "model = Sequential()\n",
        "model.add(LSTM(16, input_shape=(1,5)))\n",
        "model.add(Dense(4))\n",
        "model.add(Dense(1))\n",
        "model.compile(loss='mean_squared_error', optimizer='adam')"
      ],
      "execution_count": null,
      "outputs": []
    },
    {
      "cell_type": "code",
      "metadata": {
        "colab": {
          "base_uri": "https://localhost:8080/"
        },
        "id": "bDzsMDFZ4QKD",
        "outputId": "0db325bb-0d07-40e0-f0af-4442e985411d"
      },
      "source": [
        "epochs = 50\n",
        "batch_size = 64\n",
        "\n",
        "history = model.fit(X_train, Y_train, epochs=epochs, batch_size=batch_size)\n"
      ],
      "execution_count": null,
      "outputs": [
        {
          "output_type": "stream",
          "name": "stdout",
          "text": [
            "Epoch 1/50\n",
            "20/20 [==============================] - 5s 5ms/step - loss: 0.1693\n",
            "Epoch 2/50\n",
            "20/20 [==============================] - 0s 5ms/step - loss: 0.0883\n",
            "Epoch 3/50\n",
            "20/20 [==============================] - 0s 5ms/step - loss: 0.0378\n",
            "Epoch 4/50\n",
            "20/20 [==============================] - 0s 6ms/step - loss: 0.0169\n",
            "Epoch 5/50\n",
            "20/20 [==============================] - 0s 5ms/step - loss: 0.0121\n",
            "Epoch 6/50\n",
            "20/20 [==============================] - 0s 5ms/step - loss: 0.0092\n",
            "Epoch 7/50\n",
            "20/20 [==============================] - 0s 5ms/step - loss: 0.0065\n",
            "Epoch 8/50\n",
            "20/20 [==============================] - 0s 5ms/step - loss: 0.0044\n",
            "Epoch 9/50\n",
            "20/20 [==============================] - 0s 5ms/step - loss: 0.0028\n",
            "Epoch 10/50\n",
            "20/20 [==============================] - 0s 5ms/step - loss: 0.0018\n",
            "Epoch 11/50\n",
            "20/20 [==============================] - 0s 5ms/step - loss: 0.0011\n",
            "Epoch 12/50\n",
            "20/20 [==============================] - 0s 6ms/step - loss: 6.4985e-04\n",
            "Epoch 13/50\n",
            "20/20 [==============================] - 0s 5ms/step - loss: 4.3456e-04\n",
            "Epoch 14/50\n",
            "20/20 [==============================] - 0s 5ms/step - loss: 3.2611e-04\n",
            "Epoch 15/50\n",
            "20/20 [==============================] - 0s 5ms/step - loss: 2.7663e-04\n",
            "Epoch 16/50\n",
            "20/20 [==============================] - 0s 5ms/step - loss: 2.5390e-04\n",
            "Epoch 17/50\n",
            "20/20 [==============================] - 0s 5ms/step - loss: 2.4196e-04\n",
            "Epoch 18/50\n",
            "20/20 [==============================] - 0s 7ms/step - loss: 2.3573e-04\n",
            "Epoch 19/50\n",
            "20/20 [==============================] - 0s 6ms/step - loss: 2.2975e-04\n",
            "Epoch 20/50\n",
            "20/20 [==============================] - 0s 5ms/step - loss: 2.2503e-04\n",
            "Epoch 21/50\n",
            "20/20 [==============================] - 0s 5ms/step - loss: 2.2001e-04\n",
            "Epoch 22/50\n",
            "20/20 [==============================] - 0s 5ms/step - loss: 2.1533e-04\n",
            "Epoch 23/50\n",
            "20/20 [==============================] - 0s 5ms/step - loss: 2.1044e-04\n",
            "Epoch 24/50\n",
            "20/20 [==============================] - 0s 5ms/step - loss: 2.0572e-04\n",
            "Epoch 25/50\n",
            "20/20 [==============================] - 0s 5ms/step - loss: 2.0090e-04\n",
            "Epoch 26/50\n",
            "20/20 [==============================] - 0s 5ms/step - loss: 1.9630e-04\n",
            "Epoch 27/50\n",
            "20/20 [==============================] - 0s 5ms/step - loss: 1.9130e-04\n",
            "Epoch 28/50\n",
            "20/20 [==============================] - 0s 5ms/step - loss: 1.8663e-04\n",
            "Epoch 29/50\n",
            "20/20 [==============================] - 0s 5ms/step - loss: 1.8205e-04\n",
            "Epoch 30/50\n",
            "20/20 [==============================] - 0s 5ms/step - loss: 1.7717e-04\n",
            "Epoch 31/50\n",
            "20/20 [==============================] - 0s 5ms/step - loss: 1.7291e-04\n",
            "Epoch 32/50\n",
            "20/20 [==============================] - 0s 5ms/step - loss: 1.6824e-04\n",
            "Epoch 33/50\n",
            "20/20 [==============================] - 0s 6ms/step - loss: 1.6365e-04\n",
            "Epoch 34/50\n",
            "20/20 [==============================] - 0s 5ms/step - loss: 1.5950e-04\n",
            "Epoch 35/50\n",
            "20/20 [==============================] - 0s 5ms/step - loss: 1.5511e-04\n",
            "Epoch 36/50\n",
            "20/20 [==============================] - 0s 5ms/step - loss: 1.5110e-04\n",
            "Epoch 37/50\n",
            "20/20 [==============================] - 0s 5ms/step - loss: 1.4731e-04\n",
            "Epoch 38/50\n",
            "20/20 [==============================] - 0s 5ms/step - loss: 1.4310e-04\n",
            "Epoch 39/50\n",
            "20/20 [==============================] - 0s 5ms/step - loss: 1.3936e-04\n",
            "Epoch 40/50\n",
            "20/20 [==============================] - 0s 5ms/step - loss: 1.3573e-04\n",
            "Epoch 41/50\n",
            "20/20 [==============================] - 0s 5ms/step - loss: 1.3211e-04\n",
            "Epoch 42/50\n",
            "20/20 [==============================] - 0s 5ms/step - loss: 1.2856e-04\n",
            "Epoch 43/50\n",
            "20/20 [==============================] - 0s 5ms/step - loss: 1.2551e-04\n",
            "Epoch 44/50\n",
            "20/20 [==============================] - 0s 5ms/step - loss: 1.2227e-04\n",
            "Epoch 45/50\n",
            "20/20 [==============================] - 0s 6ms/step - loss: 1.1955e-04\n",
            "Epoch 46/50\n",
            "20/20 [==============================] - 0s 5ms/step - loss: 1.1580e-04\n",
            "Epoch 47/50\n",
            "20/20 [==============================] - 0s 5ms/step - loss: 1.1333e-04\n",
            "Epoch 48/50\n",
            "20/20 [==============================] - 0s 5ms/step - loss: 1.1089e-04\n",
            "Epoch 49/50\n",
            "20/20 [==============================] - 0s 5ms/step - loss: 1.0783e-04\n",
            "Epoch 50/50\n",
            "20/20 [==============================] - 0s 5ms/step - loss: 1.0530e-04\n"
          ]
        }
      ]
    },
    {
      "cell_type": "code",
      "metadata": {
        "id": "UP16lm874QKD"
      },
      "source": [
        "Y_show=model.predict(X_train)"
      ],
      "execution_count": null,
      "outputs": []
    },
    {
      "cell_type": "code",
      "metadata": {
        "colab": {
          "base_uri": "https://localhost:8080/",
          "height": 279
        },
        "id": "zu6Pzi28VVf3",
        "outputId": "ea96e20e-4515-4cac-a1b7-2b06cb60b8e2"
      },
      "source": [
        "plt.plot(Y_train,'r', label = 'Actual Price')\n",
        "plt.plot(Y_show,'b', label = 'Predicted S&P500 Price')\n",
        "plt.xlabel('Date from 31/10/2016 - 31/10/2021'); \n",
        "plt.ylabel('S&P500 Price')\n",
        "plt.legend(['actual','predict'])\n",
        "plt.show()"
      ],
      "execution_count": null,
      "outputs": [
        {
          "output_type": "display_data",
          "data": {
            "image/png": "[encoded data removed]",
            "text/plain": [
              "<Figure size 432x288 with 1 Axes>"
            ]
          },
          "metadata": {
            "needs_background": "light"
          }
        }
      ]
    },
    {
      "cell_type": "code",
      "metadata": {
        "colab": {
          "base_uri": "https://localhost:8080/"
        },
        "id": "4X0JSICSTlNM",
        "outputId": "a8bce931-1d8d-431a-fa51-f3cb0f5bff2e"
      },
      "source": [
        "#Score of the result\n",
        "from sklearn.metrics import mean_absolute_error, mean_squared_error, r2_score\n",
        "\n",
        "MSElstm = mean_squared_error(Y_train, Y_show)\n",
        "RMSElstm = np.sqrt(MSElstm)\n",
        "MAElstm = mean_absolute_error(Y_train, Y_show)\n",
        "R2lstm = r2_score(Y_train, Y_show)\n",
        "\n",
        "print('MSE:', MSElstm)\n",
        "print('RMSE:', RMSElstm)\n",
        "print('MAE:', MAElstm)\n",
        "print('R²:', R2lstm)"
      ],
      "execution_count": null,
      "outputs": [
        {
          "output_type": "stream",
          "name": "stdout",
          "text": [
            "MSE: 0.00010390705009089909\n",
            "RMSE: 0.01019348076423844\n",
            "MAE: 0.007610512785275504\n",
            "R²: 0.9982520086330954\n"
          ]
        }
      ]
    },
    {
      "cell_type": "markdown",
      "metadata": {
        "id": "d1Zv8KlarW2B"
      },
      "source": [
        "#**Results**"
      ]
    },
    {
      "cell_type": "code",
      "metadata": {
        "id": "Q8Yyf6ixdcjm",
        "colab": {
          "base_uri": "https://localhost:8080/",
          "height": 175
        },
        "outputId": "58e022e2-6ebd-4f55-9fb9-6e349d35935a"
      },
      "source": [
        "#Create DataFrame For Results\n",
        "fin = {'Name':['MSE','RMSE','MAE','R2'],\n",
        "       'Curve Fit':[MSEcf,RMSEcf,MAEcf,R2cf],\n",
        "       'Decision Tree Regressor':[MSElr,RMSElr,MAElr,R2lr],\n",
        "       'LSTM':[MSElstm,RMSElstm,MAElstm,R2lstm]}\n",
        "\n",
        "\n",
        "res = pd.DataFrame(fin)\n",
        "res"
      ],
      "execution_count": null,
      "outputs": [
        {
          "output_type": "execute_result",
          "data": {
            "text/html": [
              "<div>\n",
              "<style scoped>\n",
              "    .dataframe tbody tr th:only-of-type {\n",
              "        vertical-align: middle;\n",
              "    }\n",
              "\n",
              "    .dataframe tbody tr th {\n",
              "        vertical-align: top;\n",
              "    }\n",
              "\n",
              "    .dataframe thead th {\n",
              "        text-align: right;\n",
              "    }\n",
              "</style>\n",
              "<table border=\"1\" class=\"dataframe\">\n",
              "  <thead>\n",
              "    <tr style=\"text-align: right;\">\n",
              "      <th></th>\n",
              "      <th>Name</th>\n",
              "      <th>Curve Fit</th>\n",
              "      <th>Decision Tree Regressor</th>\n",
              "      <th>LSTM</th>\n",
              "    </tr>\n",
              "  </thead>\n",
              "  <tbody>\n",
              "    <tr>\n",
              "      <th>0</th>\n",
              "      <td>MSE</td>\n",
              "      <td>68484.040231</td>\n",
              "      <td>4648.497689</td>\n",
              "      <td>0.000104</td>\n",
              "    </tr>\n",
              "    <tr>\n",
              "      <th>1</th>\n",
              "      <td>RMSE</td>\n",
              "      <td>261.694555</td>\n",
              "      <td>68.179892</td>\n",
              "      <td>0.010193</td>\n",
              "    </tr>\n",
              "    <tr>\n",
              "      <th>2</th>\n",
              "      <td>MAE</td>\n",
              "      <td>203.398740</td>\n",
              "      <td>46.223483</td>\n",
              "      <td>0.007611</td>\n",
              "    </tr>\n",
              "    <tr>\n",
              "      <th>3</th>\n",
              "      <td>R2</td>\n",
              "      <td>0.816408</td>\n",
              "      <td>0.987464</td>\n",
              "      <td>0.998252</td>\n",
              "    </tr>\n",
              "  </tbody>\n",
              "</table>\n",
              "</div>"
            ],
            "text/plain": [
              "   Name     Curve Fit  Decision Tree Regressor      LSTM\n",
              "0   MSE  68484.040231              4648.497689  0.000104\n",
              "1  RMSE    261.694555                68.179892  0.010193\n",
              "2   MAE    203.398740                46.223483  0.007611\n",
              "3    R2      0.816408                 0.987464  0.998252"
            ]
          },
          "metadata": {},
          "execution_count": 37
        }
      ]
    }
  ]
}